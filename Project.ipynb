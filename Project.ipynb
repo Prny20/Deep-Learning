{
 "cells": [
  {
   "cell_type": "markdown",
   "metadata": {
    "id": "ub_mLBrsvUWy"
   },
   "source": [
    "# Prediction using Deep Learning\n",
    "\n",
    "Insurance companies take risks over customers. Risk management is a very important aspect of the insurance industry. Insurers consider every quantifiable factor to develop profiles of high and low insurance risks. Insurers collect vast amounts of information about policyholders and analyse the data. As a Data scientist in an insurance company, you need to analyse the available data and predict whether to approve the insurance or not."
   ]
  },
  {
   "cell_type": "code",
   "execution_count": 4,
   "metadata": {
    "executionInfo": {
     "elapsed": 3270,
     "status": "ok",
     "timestamp": 1642412677368,
     "user": {
      "displayName": "MOHIT KUMBHARE",
      "photoUrl": "https://lh3.googleusercontent.com/a/default-user=s64",
      "userId": "03408441948341714955"
     },
     "user_tz": -330
    },
    "id": "manrOCKO7dKr"
   },
   "outputs": [],
   "source": [
    "# Importing libraries\n",
    "import numpy as np\n",
    "import pandas as pd\n",
    "\n",
    "import matplotlib.pyplot as plt\n",
    "import seaborn as sns\n",
    "\n",
    "from sklearn.model_selection import train_test_split\n",
    "\n",
    "from sklearn.preprocessing import StandardScaler\n",
    "\n",
    "from tensorflow.keras.models import Sequential\n",
    "from tensorflow.keras.layers import Dense\n",
    "\n",
    "import warnings\n",
    "warnings.filterwarnings('ignore')"
   ]
  },
  {
   "cell_type": "markdown",
   "metadata": {
    "id": "JMQMAUlsyPbv"
   },
   "source": [
    "## Load Data"
   ]
  },
  {
   "cell_type": "code",
   "execution_count": 5,
   "metadata": {
    "executionInfo": {
     "elapsed": 1163,
     "status": "ok",
     "timestamp": 1642412678526,
     "user": {
      "displayName": "MOHIT KUMBHARE",
      "photoUrl": "https://lh3.googleusercontent.com/a/default-user=s64",
      "userId": "03408441948341714955"
     },
     "user_tz": -330
    },
    "id": "Wg7JIepNFXn7"
   },
   "outputs": [],
   "source": [
    "df = pd.read_csv('data.csv')"
   ]
  },
  {
   "cell_type": "code",
   "execution_count": 6,
   "metadata": {
    "colab": {
     "base_uri": "https://localhost:8080/",
     "height": 354
    },
    "executionInfo": {
     "elapsed": 48,
     "status": "ok",
     "timestamp": 1642412678529,
     "user": {
      "displayName": "MOHIT KUMBHARE",
      "photoUrl": "https://lh3.googleusercontent.com/a/default-user=s64",
      "userId": "03408441948341714955"
     },
     "user_tz": -330
    },
    "id": "Wu9IC0IDFl0G",
    "outputId": "37a16b52-2044-4dcc-9fed-82a1fb5801e8"
   },
   "outputs": [
    {
     "data": {
      "text/html": [
       "<div>\n",
       "<style scoped>\n",
       "    .dataframe tbody tr th:only-of-type {\n",
       "        vertical-align: middle;\n",
       "    }\n",
       "\n",
       "    .dataframe tbody tr th {\n",
       "        vertical-align: top;\n",
       "    }\n",
       "\n",
       "    .dataframe thead th {\n",
       "        text-align: right;\n",
       "    }\n",
       "</style>\n",
       "<table border=\"1\" class=\"dataframe\">\n",
       "  <thead>\n",
       "    <tr style=\"text-align: right;\">\n",
       "      <th></th>\n",
       "      <th>ID</th>\n",
       "      <th>Agency</th>\n",
       "      <th>Agency Type</th>\n",
       "      <th>Distribution Channel</th>\n",
       "      <th>Product Name</th>\n",
       "      <th>Claim</th>\n",
       "      <th>Duration</th>\n",
       "      <th>Destination</th>\n",
       "      <th>Net Sales</th>\n",
       "      <th>Commision (in value)</th>\n",
       "      <th>Gender</th>\n",
       "      <th>Age</th>\n",
       "    </tr>\n",
       "  </thead>\n",
       "  <tbody>\n",
       "    <tr>\n",
       "      <th>0</th>\n",
       "      <td>3433</td>\n",
       "      <td>CWT</td>\n",
       "      <td>Travel Agency</td>\n",
       "      <td>Online</td>\n",
       "      <td>Rental Vehicle Excess Insurance</td>\n",
       "      <td>0</td>\n",
       "      <td>7</td>\n",
       "      <td>MALAYSIA</td>\n",
       "      <td>0.0</td>\n",
       "      <td>17.82</td>\n",
       "      <td>NaN</td>\n",
       "      <td>31</td>\n",
       "    </tr>\n",
       "    <tr>\n",
       "      <th>1</th>\n",
       "      <td>4339</td>\n",
       "      <td>EPX</td>\n",
       "      <td>Travel Agency</td>\n",
       "      <td>Online</td>\n",
       "      <td>Cancellation Plan</td>\n",
       "      <td>0</td>\n",
       "      <td>85</td>\n",
       "      <td>SINGAPORE</td>\n",
       "      <td>69.0</td>\n",
       "      <td>0.00</td>\n",
       "      <td>NaN</td>\n",
       "      <td>36</td>\n",
       "    </tr>\n",
       "    <tr>\n",
       "      <th>2</th>\n",
       "      <td>34590</td>\n",
       "      <td>CWT</td>\n",
       "      <td>Travel Agency</td>\n",
       "      <td>Online</td>\n",
       "      <td>Rental Vehicle Excess Insurance</td>\n",
       "      <td>0</td>\n",
       "      <td>11</td>\n",
       "      <td>MALAYSIA</td>\n",
       "      <td>19.8</td>\n",
       "      <td>11.88</td>\n",
       "      <td>NaN</td>\n",
       "      <td>75</td>\n",
       "    </tr>\n",
       "    <tr>\n",
       "      <th>3</th>\n",
       "      <td>55816</td>\n",
       "      <td>EPX</td>\n",
       "      <td>Travel Agency</td>\n",
       "      <td>Online</td>\n",
       "      <td>2 way Comprehensive Plan</td>\n",
       "      <td>0</td>\n",
       "      <td>16</td>\n",
       "      <td>INDONESIA</td>\n",
       "      <td>20.0</td>\n",
       "      <td>0.00</td>\n",
       "      <td>NaN</td>\n",
       "      <td>32</td>\n",
       "    </tr>\n",
       "    <tr>\n",
       "      <th>4</th>\n",
       "      <td>13816</td>\n",
       "      <td>EPX</td>\n",
       "      <td>Travel Agency</td>\n",
       "      <td>Online</td>\n",
       "      <td>Cancellation Plan</td>\n",
       "      <td>0</td>\n",
       "      <td>10</td>\n",
       "      <td>KOREA, REPUBLIC OF</td>\n",
       "      <td>15.0</td>\n",
       "      <td>0.00</td>\n",
       "      <td>NaN</td>\n",
       "      <td>29</td>\n",
       "    </tr>\n",
       "  </tbody>\n",
       "</table>\n",
       "</div>"
      ],
      "text/plain": [
       "      ID Agency    Agency Type Distribution Channel  \\\n",
       "0   3433    CWT  Travel Agency               Online   \n",
       "1   4339    EPX  Travel Agency               Online   \n",
       "2  34590    CWT  Travel Agency               Online   \n",
       "3  55816    EPX  Travel Agency               Online   \n",
       "4  13816    EPX  Travel Agency               Online   \n",
       "\n",
       "                      Product Name  Claim  Duration         Destination  \\\n",
       "0  Rental Vehicle Excess Insurance      0         7            MALAYSIA   \n",
       "1                Cancellation Plan      0        85           SINGAPORE   \n",
       "2  Rental Vehicle Excess Insurance      0        11            MALAYSIA   \n",
       "3         2 way Comprehensive Plan      0        16           INDONESIA   \n",
       "4                Cancellation Plan      0        10  KOREA, REPUBLIC OF   \n",
       "\n",
       "   Net Sales  Commision (in value) Gender  Age  \n",
       "0        0.0                 17.82    NaN   31  \n",
       "1       69.0                  0.00    NaN   36  \n",
       "2       19.8                 11.88    NaN   75  \n",
       "3       20.0                  0.00    NaN   32  \n",
       "4       15.0                  0.00    NaN   29  "
      ]
     },
     "execution_count": 6,
     "metadata": {},
     "output_type": "execute_result"
    }
   ],
   "source": [
    "df.head()"
   ]
  },
  {
   "cell_type": "code",
   "execution_count": 7,
   "metadata": {
    "colab": {
     "base_uri": "https://localhost:8080/"
    },
    "executionInfo": {
     "elapsed": 45,
     "status": "ok",
     "timestamp": 1642412678530,
     "user": {
      "displayName": "MOHIT KUMBHARE",
      "photoUrl": "https://lh3.googleusercontent.com/a/default-user=s64",
      "userId": "03408441948341714955"
     },
     "user_tz": -330
    },
    "id": "wZH5JyOmI6Mf",
    "outputId": "6c7cfb7d-4c10-438b-805e-58b367506f32"
   },
   "outputs": [
    {
     "name": "stdout",
     "output_type": "stream",
     "text": [
      "<class 'pandas.core.frame.DataFrame'>\n",
      "RangeIndex: 50553 entries, 0 to 50552\n",
      "Data columns (total 12 columns):\n",
      " #   Column                Non-Null Count  Dtype  \n",
      "---  ------                --------------  -----  \n",
      " 0   ID                    50553 non-null  int64  \n",
      " 1   Agency                50553 non-null  object \n",
      " 2   Agency Type           50553 non-null  object \n",
      " 3   Distribution Channel  50553 non-null  object \n",
      " 4   Product Name          50553 non-null  object \n",
      " 5   Claim                 50553 non-null  int64  \n",
      " 6   Duration              50553 non-null  int64  \n",
      " 7   Destination           50553 non-null  object \n",
      " 8   Net Sales             50553 non-null  float64\n",
      " 9   Commision (in value)  50553 non-null  float64\n",
      " 10  Gender                14600 non-null  object \n",
      " 11  Age                   50553 non-null  int64  \n",
      "dtypes: float64(2), int64(4), object(6)\n",
      "memory usage: 4.6+ MB\n"
     ]
    }
   ],
   "source": [
    "# Checking Any Null or unwanted Values \n",
    "df.info()"
   ]
  },
  {
   "cell_type": "code",
   "execution_count": 8,
   "metadata": {
    "colab": {
     "base_uri": "https://localhost:8080/",
     "height": 300
    },
    "executionInfo": {
     "elapsed": 414,
     "status": "ok",
     "timestamp": 1642412825013,
     "user": {
      "displayName": "MOHIT KUMBHARE",
      "photoUrl": "https://lh3.googleusercontent.com/a/default-user=s64",
      "userId": "03408441948341714955"
     },
     "user_tz": -330
    },
    "id": "zfsd-vlzbrkd",
    "outputId": "ae874000-fd8e-486d-ab84-3df5c1b588fe"
   },
   "outputs": [
    {
     "data": {
      "text/html": [
       "<div>\n",
       "<style scoped>\n",
       "    .dataframe tbody tr th:only-of-type {\n",
       "        vertical-align: middle;\n",
       "    }\n",
       "\n",
       "    .dataframe tbody tr th {\n",
       "        vertical-align: top;\n",
       "    }\n",
       "\n",
       "    .dataframe thead th {\n",
       "        text-align: right;\n",
       "    }\n",
       "</style>\n",
       "<table border=\"1\" class=\"dataframe\">\n",
       "  <thead>\n",
       "    <tr style=\"text-align: right;\">\n",
       "      <th></th>\n",
       "      <th>ID</th>\n",
       "      <th>Claim</th>\n",
       "      <th>Duration</th>\n",
       "      <th>Net Sales</th>\n",
       "      <th>Commision (in value)</th>\n",
       "      <th>Age</th>\n",
       "    </tr>\n",
       "  </thead>\n",
       "  <tbody>\n",
       "    <tr>\n",
       "      <th>count</th>\n",
       "      <td>50553.000000</td>\n",
       "      <td>50553.000000</td>\n",
       "      <td>50553.000000</td>\n",
       "      <td>50553.000000</td>\n",
       "      <td>50553.00000</td>\n",
       "      <td>50553.000000</td>\n",
       "    </tr>\n",
       "    <tr>\n",
       "      <th>mean</th>\n",
       "      <td>31679.740134</td>\n",
       "      <td>0.014658</td>\n",
       "      <td>49.425969</td>\n",
       "      <td>40.800977</td>\n",
       "      <td>9.83809</td>\n",
       "      <td>40.011236</td>\n",
       "    </tr>\n",
       "    <tr>\n",
       "      <th>std</th>\n",
       "      <td>18288.265350</td>\n",
       "      <td>0.120180</td>\n",
       "      <td>101.434647</td>\n",
       "      <td>48.899683</td>\n",
       "      <td>19.91004</td>\n",
       "      <td>14.076566</td>\n",
       "    </tr>\n",
       "    <tr>\n",
       "      <th>min</th>\n",
       "      <td>0.000000</td>\n",
       "      <td>0.000000</td>\n",
       "      <td>-2.000000</td>\n",
       "      <td>-389.000000</td>\n",
       "      <td>0.00000</td>\n",
       "      <td>0.000000</td>\n",
       "    </tr>\n",
       "    <tr>\n",
       "      <th>25%</th>\n",
       "      <td>15891.000000</td>\n",
       "      <td>0.000000</td>\n",
       "      <td>9.000000</td>\n",
       "      <td>18.000000</td>\n",
       "      <td>0.00000</td>\n",
       "      <td>35.000000</td>\n",
       "    </tr>\n",
       "    <tr>\n",
       "      <th>50%</th>\n",
       "      <td>31657.000000</td>\n",
       "      <td>0.000000</td>\n",
       "      <td>22.000000</td>\n",
       "      <td>26.500000</td>\n",
       "      <td>0.00000</td>\n",
       "      <td>36.000000</td>\n",
       "    </tr>\n",
       "    <tr>\n",
       "      <th>75%</th>\n",
       "      <td>47547.000000</td>\n",
       "      <td>0.000000</td>\n",
       "      <td>53.000000</td>\n",
       "      <td>48.000000</td>\n",
       "      <td>11.55000</td>\n",
       "      <td>44.000000</td>\n",
       "    </tr>\n",
       "    <tr>\n",
       "      <th>max</th>\n",
       "      <td>63325.000000</td>\n",
       "      <td>1.000000</td>\n",
       "      <td>4881.000000</td>\n",
       "      <td>810.000000</td>\n",
       "      <td>283.50000</td>\n",
       "      <td>118.000000</td>\n",
       "    </tr>\n",
       "  </tbody>\n",
       "</table>\n",
       "</div>"
      ],
      "text/plain": [
       "                 ID         Claim      Duration     Net Sales  \\\n",
       "count  50553.000000  50553.000000  50553.000000  50553.000000   \n",
       "mean   31679.740134      0.014658     49.425969     40.800977   \n",
       "std    18288.265350      0.120180    101.434647     48.899683   \n",
       "min        0.000000      0.000000     -2.000000   -389.000000   \n",
       "25%    15891.000000      0.000000      9.000000     18.000000   \n",
       "50%    31657.000000      0.000000     22.000000     26.500000   \n",
       "75%    47547.000000      0.000000     53.000000     48.000000   \n",
       "max    63325.000000      1.000000   4881.000000    810.000000   \n",
       "\n",
       "       Commision (in value)           Age  \n",
       "count           50553.00000  50553.000000  \n",
       "mean                9.83809     40.011236  \n",
       "std                19.91004     14.076566  \n",
       "min                 0.00000      0.000000  \n",
       "25%                 0.00000     35.000000  \n",
       "50%                 0.00000     36.000000  \n",
       "75%                11.55000     44.000000  \n",
       "max               283.50000    118.000000  "
      ]
     },
     "execution_count": 8,
     "metadata": {},
     "output_type": "execute_result"
    }
   ],
   "source": [
    "df.describe()"
   ]
  },
  {
   "cell_type": "code",
   "execution_count": 9,
   "metadata": {
    "colab": {
     "base_uri": "https://localhost:8080/"
    },
    "executionInfo": {
     "elapsed": 495,
     "status": "ok",
     "timestamp": 1642415735316,
     "user": {
      "displayName": "MOHIT KUMBHARE",
      "photoUrl": "https://lh3.googleusercontent.com/a/default-user=s64",
      "userId": "03408441948341714955"
     },
     "user_tz": -330
    },
    "id": "u8ROklNvmwT0",
    "outputId": "517f78b0-748d-444a-df78-ae43488eee70"
   },
   "outputs": [
    {
     "data": {
      "text/plain": [
       "0    49812\n",
       "1      741\n",
       "Name: Claim, dtype: int64"
      ]
     },
     "execution_count": 9,
     "metadata": {},
     "output_type": "execute_result"
    }
   ],
   "source": [
    "df['Claim'].value_counts()"
   ]
  },
  {
   "cell_type": "code",
   "execution_count": 10,
   "metadata": {
    "executionInfo": {
     "elapsed": 30,
     "status": "ok",
     "timestamp": 1642412678533,
     "user": {
      "displayName": "MOHIT KUMBHARE",
      "photoUrl": "https://lh3.googleusercontent.com/a/default-user=s64",
      "userId": "03408441948341714955"
     },
     "user_tz": -330
    },
    "id": "cYorHYiVsiJb"
   },
   "outputs": [],
   "source": [
    "# Spliting into feature and target\n",
    "X = df.drop('Claim', axis = 1)\n",
    "y = df['Claim']"
   ]
  },
  {
   "cell_type": "code",
   "execution_count": 11,
   "metadata": {
    "executionInfo": {
     "elapsed": 30,
     "status": "ok",
     "timestamp": 1642412678534,
     "user": {
      "displayName": "MOHIT KUMBHARE",
      "photoUrl": "https://lh3.googleusercontent.com/a/default-user=s64",
      "userId": "03408441948341714955"
     },
     "user_tz": -330
    },
    "id": "2fyDSp3TEdIA"
   },
   "outputs": [],
   "source": [
    "# Seperating numerical and categorical data\n",
    "df_num = X.select_dtypes(['int64', 'float64'])\n",
    "df_cat = X.select_dtypes(['object'])"
   ]
  },
  {
   "cell_type": "code",
   "execution_count": 12,
   "metadata": {
    "colab": {
     "base_uri": "https://localhost:8080/",
     "height": 206
    },
    "executionInfo": {
     "elapsed": 758,
     "status": "ok",
     "timestamp": 1642413149136,
     "user": {
      "displayName": "MOHIT KUMBHARE",
      "photoUrl": "https://lh3.googleusercontent.com/a/default-user=s64",
      "userId": "03408441948341714955"
     },
     "user_tz": -330
    },
    "id": "8IsFsFpaF8ic",
    "outputId": "a3c6012f-903c-4aea-f330-d3a8291bb24b"
   },
   "outputs": [
    {
     "data": {
      "text/html": [
       "<div>\n",
       "<style scoped>\n",
       "    .dataframe tbody tr th:only-of-type {\n",
       "        vertical-align: middle;\n",
       "    }\n",
       "\n",
       "    .dataframe tbody tr th {\n",
       "        vertical-align: top;\n",
       "    }\n",
       "\n",
       "    .dataframe thead th {\n",
       "        text-align: right;\n",
       "    }\n",
       "</style>\n",
       "<table border=\"1\" class=\"dataframe\">\n",
       "  <thead>\n",
       "    <tr style=\"text-align: right;\">\n",
       "      <th></th>\n",
       "      <th>ID</th>\n",
       "      <th>Duration</th>\n",
       "      <th>Net Sales</th>\n",
       "      <th>Commision (in value)</th>\n",
       "      <th>Age</th>\n",
       "    </tr>\n",
       "  </thead>\n",
       "  <tbody>\n",
       "    <tr>\n",
       "      <th>0</th>\n",
       "      <td>3433</td>\n",
       "      <td>7</td>\n",
       "      <td>0.0</td>\n",
       "      <td>17.82</td>\n",
       "      <td>31</td>\n",
       "    </tr>\n",
       "    <tr>\n",
       "      <th>1</th>\n",
       "      <td>4339</td>\n",
       "      <td>85</td>\n",
       "      <td>69.0</td>\n",
       "      <td>0.00</td>\n",
       "      <td>36</td>\n",
       "    </tr>\n",
       "    <tr>\n",
       "      <th>2</th>\n",
       "      <td>34590</td>\n",
       "      <td>11</td>\n",
       "      <td>19.8</td>\n",
       "      <td>11.88</td>\n",
       "      <td>75</td>\n",
       "    </tr>\n",
       "    <tr>\n",
       "      <th>3</th>\n",
       "      <td>55816</td>\n",
       "      <td>16</td>\n",
       "      <td>20.0</td>\n",
       "      <td>0.00</td>\n",
       "      <td>32</td>\n",
       "    </tr>\n",
       "    <tr>\n",
       "      <th>4</th>\n",
       "      <td>13816</td>\n",
       "      <td>10</td>\n",
       "      <td>15.0</td>\n",
       "      <td>0.00</td>\n",
       "      <td>29</td>\n",
       "    </tr>\n",
       "  </tbody>\n",
       "</table>\n",
       "</div>"
      ],
      "text/plain": [
       "      ID  Duration  Net Sales  Commision (in value)  Age\n",
       "0   3433         7        0.0                 17.82   31\n",
       "1   4339        85       69.0                  0.00   36\n",
       "2  34590        11       19.8                 11.88   75\n",
       "3  55816        16       20.0                  0.00   32\n",
       "4  13816        10       15.0                  0.00   29"
      ]
     },
     "execution_count": 12,
     "metadata": {},
     "output_type": "execute_result"
    }
   ],
   "source": [
    "df_num.head()"
   ]
  },
  {
   "cell_type": "code",
   "execution_count": 13,
   "metadata": {
    "colab": {
     "base_uri": "https://localhost:8080/"
    },
    "executionInfo": {
     "elapsed": 29,
     "status": "ok",
     "timestamp": 1642412678537,
     "user": {
      "displayName": "MOHIT KUMBHARE",
      "photoUrl": "https://lh3.googleusercontent.com/a/default-user=s64",
      "userId": "03408441948341714955"
     },
     "user_tz": -330
    },
    "id": "7gcgESWxHCFs",
    "outputId": "43600dfc-aa74-42e6-e509-43d739f0d13e"
   },
   "outputs": [
    {
     "data": {
      "text/plain": [
       "Unknown    35953\n",
       "M           7527\n",
       "F           7073\n",
       "Name: Gender, dtype: int64"
      ]
     },
     "execution_count": 13,
     "metadata": {},
     "output_type": "execute_result"
    }
   ],
   "source": [
    "# replace nan value with unknown\n",
    "df_cat['Gender'].replace(np.nan, 'Unknown', inplace = True)\n",
    "df_cat['Gender'].value_counts()"
   ]
  },
  {
   "cell_type": "code",
   "execution_count": 14,
   "metadata": {
    "colab": {
     "base_uri": "https://localhost:8080/",
     "height": 1000
    },
    "executionInfo": {
     "elapsed": 4465,
     "status": "ok",
     "timestamp": 1642412682976,
     "user": {
      "displayName": "MOHIT KUMBHARE",
      "photoUrl": "https://lh3.googleusercontent.com/a/default-user=s64",
      "userId": "03408441948341714955"
     },
     "user_tz": -330
    },
    "id": "sb7REx12F9lI",
    "outputId": "47b2f094-fe5f-4bb9-a62c-7b5c1217c5d2"
   },
   "outputs": [
    {
     "data": {
      "image/png": "[encoded data removed]",
      "text/plain": [
       "<Figure size 1440x576 with 1 Axes>"
      ]
     },
     "metadata": {
      "needs_background": "light"
     },
     "output_type": "display_data"
    },
    {
     "data": {
      "image/png": "[encoded data removed]",
      "text/plain": [
       "<Figure size 1440x576 with 1 Axes>"
      ]
     },
     "metadata": {
      "needs_background": "light"
     },
     "output_type": "display_data"
    },
    {
     "data": {
      "image/png": "[encoded data removed]",
      "text/plain": [
       "<Figure size 1440x576 with 1 Axes>"
      ]
     },
     "metadata": {
      "needs_background": "light"
     },
     "output_type": "display_data"
    },
    {
     "data": {
      "image/png": "[encoded data removed]",
      "text/plain": [
       "<Figure size 1440x576 with 1 Axes>"
      ]
     },
     "metadata": {
      "needs_background": "light"
     },
     "output_type": "display_data"
    },
    {
     "data": {
      "image/png": "[encoded data removed]",
      "text/plain": [
       "<Figure size 1440x576 with 1 Axes>"
      ]
     },
     "metadata": {
      "needs_background": "light"
     },
     "output_type": "display_data"
    },
    {
     "data": {
      "image/png": "[encoded data removed]",
      "text/plain": [
       "<Figure size 1440x576 with 1 Axes>"
      ]
     },
     "metadata": {
      "needs_background": "light"
     },
     "output_type": "display_data"
    }
   ],
   "source": [
    "for i in df_cat:\n",
    "  plt.figure(figsize=(20,8))\n",
    "  sns.countplot(data=df_cat, x=i)\n",
    "  plt.title(i)\n",
    "  plt.xticks(rotation = 90)\n",
    "  plt.show()"
   ]
  },
  {
   "cell_type": "code",
   "execution_count": 15,
   "metadata": {
    "colab": {
     "base_uri": "https://localhost:8080/",
     "height": 206
    },
    "executionInfo": {
     "elapsed": 46,
     "status": "ok",
     "timestamp": 1642412682979,
     "user": {
      "displayName": "MOHIT KUMBHARE",
      "photoUrl": "https://lh3.googleusercontent.com/a/default-user=s64",
      "userId": "03408441948341714955"
     },
     "user_tz": -330
    },
    "id": "qt4H8iycGabJ",
    "outputId": "d7bffa0c-eb8b-4a97-a9ad-e5ff0ebf1dea"
   },
   "outputs": [
    {
     "data": {
      "text/html": [
       "<div>\n",
       "<style scoped>\n",
       "    .dataframe tbody tr th:only-of-type {\n",
       "        vertical-align: middle;\n",
       "    }\n",
       "\n",
       "    .dataframe tbody tr th {\n",
       "        vertical-align: top;\n",
       "    }\n",
       "\n",
       "    .dataframe thead th {\n",
       "        text-align: right;\n",
       "    }\n",
       "</style>\n",
       "<table border=\"1\" class=\"dataframe\">\n",
       "  <thead>\n",
       "    <tr style=\"text-align: right;\">\n",
       "      <th></th>\n",
       "      <th>Agency</th>\n",
       "      <th>Agency Type</th>\n",
       "      <th>Distribution Channel</th>\n",
       "      <th>Product Name</th>\n",
       "      <th>Destination</th>\n",
       "      <th>Gender</th>\n",
       "    </tr>\n",
       "  </thead>\n",
       "  <tbody>\n",
       "    <tr>\n",
       "      <th>0</th>\n",
       "      <td>CWT</td>\n",
       "      <td>Travel Agency</td>\n",
       "      <td>Online</td>\n",
       "      <td>Rental Vehicle Excess Insurance</td>\n",
       "      <td>MALAYSIA</td>\n",
       "      <td>Unknown</td>\n",
       "    </tr>\n",
       "    <tr>\n",
       "      <th>1</th>\n",
       "      <td>EPX</td>\n",
       "      <td>Travel Agency</td>\n",
       "      <td>Online</td>\n",
       "      <td>Cancellation Plan</td>\n",
       "      <td>SINGAPORE</td>\n",
       "      <td>Unknown</td>\n",
       "    </tr>\n",
       "    <tr>\n",
       "      <th>2</th>\n",
       "      <td>CWT</td>\n",
       "      <td>Travel Agency</td>\n",
       "      <td>Online</td>\n",
       "      <td>Rental Vehicle Excess Insurance</td>\n",
       "      <td>MALAYSIA</td>\n",
       "      <td>Unknown</td>\n",
       "    </tr>\n",
       "    <tr>\n",
       "      <th>3</th>\n",
       "      <td>EPX</td>\n",
       "      <td>Travel Agency</td>\n",
       "      <td>Online</td>\n",
       "      <td>2 way Comprehensive Plan</td>\n",
       "      <td>INDONESIA</td>\n",
       "      <td>Unknown</td>\n",
       "    </tr>\n",
       "    <tr>\n",
       "      <th>4</th>\n",
       "      <td>EPX</td>\n",
       "      <td>Travel Agency</td>\n",
       "      <td>Online</td>\n",
       "      <td>Cancellation Plan</td>\n",
       "      <td>KOREA, REPUBLIC OF</td>\n",
       "      <td>Unknown</td>\n",
       "    </tr>\n",
       "  </tbody>\n",
       "</table>\n",
       "</div>"
      ],
      "text/plain": [
       "  Agency    Agency Type Distribution Channel                     Product Name  \\\n",
       "0    CWT  Travel Agency               Online  Rental Vehicle Excess Insurance   \n",
       "1    EPX  Travel Agency               Online                Cancellation Plan   \n",
       "2    CWT  Travel Agency               Online  Rental Vehicle Excess Insurance   \n",
       "3    EPX  Travel Agency               Online         2 way Comprehensive Plan   \n",
       "4    EPX  Travel Agency               Online                Cancellation Plan   \n",
       "\n",
       "          Destination   Gender  \n",
       "0            MALAYSIA  Unknown  \n",
       "1           SINGAPORE  Unknown  \n",
       "2            MALAYSIA  Unknown  \n",
       "3           INDONESIA  Unknown  \n",
       "4  KOREA, REPUBLIC OF  Unknown  "
      ]
     },
     "execution_count": 15,
     "metadata": {},
     "output_type": "execute_result"
    }
   ],
   "source": [
    "df_cat.head()"
   ]
  },
  {
   "cell_type": "code",
   "execution_count": 16,
   "metadata": {
    "executionInfo": {
     "elapsed": 44,
     "status": "ok",
     "timestamp": 1642412682981,
     "user": {
      "displayName": "MOHIT KUMBHARE",
      "photoUrl": "https://lh3.googleusercontent.com/a/default-user=s64",
      "userId": "03408441948341714955"
     },
     "user_tz": -330
    },
    "id": "fqld5E6BrND4"
   },
   "outputs": [],
   "source": [
    "# One-Hot encoding\n",
    "df_cat = pd.get_dummies(df_cat)"
   ]
  },
  {
   "cell_type": "code",
   "execution_count": 17,
   "metadata": {
    "colab": {
     "base_uri": "https://localhost:8080/",
     "height": 206
    },
    "executionInfo": {
     "elapsed": 45,
     "status": "ok",
     "timestamp": 1642412682983,
     "user": {
      "displayName": "MOHIT KUMBHARE",
      "photoUrl": "https://lh3.googleusercontent.com/a/default-user=s64",
      "userId": "03408441948341714955"
     },
     "user_tz": -330
    },
    "id": "lcf_5xVRsCLk",
    "outputId": "4ece7461-8855-48a6-8d4b-e74b586b9fab"
   },
   "outputs": [
    {
     "data": {
      "text/html": [
       "<div>\n",
       "<style scoped>\n",
       "    .dataframe tbody tr th:only-of-type {\n",
       "        vertical-align: middle;\n",
       "    }\n",
       "\n",
       "    .dataframe tbody tr th {\n",
       "        vertical-align: top;\n",
       "    }\n",
       "\n",
       "    .dataframe thead th {\n",
       "        text-align: right;\n",
       "    }\n",
       "</style>\n",
       "<table border=\"1\" class=\"dataframe\">\n",
       "  <thead>\n",
       "    <tr style=\"text-align: right;\">\n",
       "      <th></th>\n",
       "      <th>ID</th>\n",
       "      <th>Duration</th>\n",
       "      <th>Net Sales</th>\n",
       "      <th>Commision (in value)</th>\n",
       "      <th>Age</th>\n",
       "    </tr>\n",
       "  </thead>\n",
       "  <tbody>\n",
       "    <tr>\n",
       "      <th>0</th>\n",
       "      <td>3433</td>\n",
       "      <td>7</td>\n",
       "      <td>0.0</td>\n",
       "      <td>17.82</td>\n",
       "      <td>31</td>\n",
       "    </tr>\n",
       "    <tr>\n",
       "      <th>1</th>\n",
       "      <td>4339</td>\n",
       "      <td>85</td>\n",
       "      <td>69.0</td>\n",
       "      <td>0.00</td>\n",
       "      <td>36</td>\n",
       "    </tr>\n",
       "    <tr>\n",
       "      <th>2</th>\n",
       "      <td>34590</td>\n",
       "      <td>11</td>\n",
       "      <td>19.8</td>\n",
       "      <td>11.88</td>\n",
       "      <td>75</td>\n",
       "    </tr>\n",
       "    <tr>\n",
       "      <th>3</th>\n",
       "      <td>55816</td>\n",
       "      <td>16</td>\n",
       "      <td>20.0</td>\n",
       "      <td>0.00</td>\n",
       "      <td>32</td>\n",
       "    </tr>\n",
       "    <tr>\n",
       "      <th>4</th>\n",
       "      <td>13816</td>\n",
       "      <td>10</td>\n",
       "      <td>15.0</td>\n",
       "      <td>0.00</td>\n",
       "      <td>29</td>\n",
       "    </tr>\n",
       "  </tbody>\n",
       "</table>\n",
       "</div>"
      ],
      "text/plain": [
       "      ID  Duration  Net Sales  Commision (in value)  Age\n",
       "0   3433         7        0.0                 17.82   31\n",
       "1   4339        85       69.0                  0.00   36\n",
       "2  34590        11       19.8                 11.88   75\n",
       "3  55816        16       20.0                  0.00   32\n",
       "4  13816        10       15.0                  0.00   29"
      ]
     },
     "execution_count": 17,
     "metadata": {},
     "output_type": "execute_result"
    }
   ],
   "source": [
    "df_num.head()"
   ]
  },
  {
   "cell_type": "code",
   "execution_count": 18,
   "metadata": {
    "executionInfo": {
     "elapsed": 44,
     "status": "ok",
     "timestamp": 1642412682984,
     "user": {
      "displayName": "MOHIT KUMBHARE",
      "photoUrl": "https://lh3.googleusercontent.com/a/default-user=s64",
      "userId": "03408441948341714955"
     },
     "user_tz": -330
    },
    "id": "QWa4ncN9sF4T"
   },
   "outputs": [],
   "source": [
    "df_num = df_num.drop('ID', axis = 1)"
   ]
  },
  {
   "cell_type": "code",
   "execution_count": 19,
   "metadata": {
    "executionInfo": {
     "elapsed": 44,
     "status": "ok",
     "timestamp": 1642412682985,
     "user": {
      "displayName": "MOHIT KUMBHARE",
      "photoUrl": "https://lh3.googleusercontent.com/a/default-user=s64",
      "userId": "03408441948341714955"
     },
     "user_tz": -330
    },
    "id": "fiwvjNGQsXUn"
   },
   "outputs": [],
   "source": [
    "# Concat numerical and categorical data\n",
    "X = pd.concat([df_num, df_cat], axis = 1)"
   ]
  },
  {
   "cell_type": "code",
   "execution_count": 20,
   "metadata": {
    "executionInfo": {
     "elapsed": 45,
     "status": "ok",
     "timestamp": 1642412682987,
     "user": {
      "displayName": "MOHIT KUMBHARE",
      "photoUrl": "https://lh3.googleusercontent.com/a/default-user=s64",
      "userId": "03408441948341714955"
     },
     "user_tz": -330
    },
    "id": "esWtCixssbLs"
   },
   "outputs": [],
   "source": [
    "X_train,X_test,y_train,y_test = train_test_split(X,y, test_size=0.3, random_state=1)"
   ]
  },
  {
   "cell_type": "code",
   "execution_count": 21,
   "metadata": {
    "executionInfo": {
     "elapsed": 47,
     "status": "ok",
     "timestamp": 1642412682989,
     "user": {
      "displayName": "MOHIT KUMBHARE",
      "photoUrl": "https://lh3.googleusercontent.com/a/default-user=s64",
      "userId": "03408441948341714955"
     },
     "user_tz": -330
    },
    "id": "zRM3BlM7uF8w"
   },
   "outputs": [],
   "source": [
    "data = ['Duration','Net Sales','Commision (in value)','Age']\n",
    "ss = StandardScaler()\n",
    "for i in data:\n",
    "  X_train[i] = ss.fit_transform(X_train[[i]])\n",
    "  X_test[i] = ss.transform(X_test[[i]])"
   ]
  },
  {
   "cell_type": "code",
   "execution_count": 22,
   "metadata": {
    "colab": {
     "base_uri": "https://localhost:8080/"
    },
    "executionInfo": {
     "elapsed": 48,
     "status": "ok",
     "timestamp": 1642412682991,
     "user": {
      "displayName": "MOHIT KUMBHARE",
      "photoUrl": "https://lh3.googleusercontent.com/a/default-user=s64",
      "userId": "03408441948341714955"
     },
     "user_tz": -330
    },
    "id": "sZ5IHQgNvppW",
    "outputId": "f440897f-6b9b-4e61-ebf6-7816d492d396"
   },
   "outputs": [
    {
     "data": {
      "text/plain": [
       "(35387, 154)"
      ]
     },
     "execution_count": 22,
     "metadata": {},
     "output_type": "execute_result"
    }
   ],
   "source": [
    "X_train.shape"
   ]
  },
  {
   "cell_type": "code",
   "execution_count": 23,
   "metadata": {
    "executionInfo": {
     "elapsed": 47,
     "status": "ok",
     "timestamp": 1642412682993,
     "user": {
      "displayName": "MOHIT KUMBHARE",
      "photoUrl": "https://lh3.googleusercontent.com/a/default-user=s64",
      "userId": "03408441948341714955"
     },
     "user_tz": -330
    },
    "id": "yPS8LxuOwdol"
   },
   "outputs": [],
   "source": [
    "# Architecture\n",
    "model = Sequential()\n",
    "model.add(Dense(32, activation=\"tanh\", input_dim=154))\n",
    "# model.add(Dense(32, activation=\"tanh\"))\n",
    "model.add(Dense(16, activation=\"tanh\"))\n",
    "model.add(Dense(16, activation=\"tanh\"))\n",
    "model.add(Dense(8, activation=\"tanh\"))\n",
    "model.add(Dense(8, activation=\"tanh\"))\n",
    "model.add(Dense(4, activation=\"tanh\"))\n",
    "model.add(Dense(2, activation=\"tanh\"))\n",
    "model.add(Dense(1, activation=\"sigmoid\"))"
   ]
  },
  {
   "cell_type": "code",
   "execution_count": 24,
   "metadata": {
    "executionInfo": {
     "elapsed": 47,
     "status": "ok",
     "timestamp": 1642412682994,
     "user": {
      "displayName": "MOHIT KUMBHARE",
      "photoUrl": "https://lh3.googleusercontent.com/a/default-user=s64",
      "userId": "03408441948341714955"
     },
     "user_tz": -330
    },
    "id": "BLmhImSzwjEi"
   },
   "outputs": [],
   "source": [
    "model.compile(optimizer=\"adam\", loss=\"binary_crossentropy\")"
   ]
  },
  {
   "cell_type": "code",
   "execution_count": 25,
   "metadata": {
    "executionInfo": {
     "elapsed": 46,
     "status": "ok",
     "timestamp": 1642412682995,
     "user": {
      "displayName": "MOHIT KUMBHARE",
      "photoUrl": "https://lh3.googleusercontent.com/a/default-user=s64",
      "userId": "03408441948341714955"
     },
     "user_tz": -330
    },
    "id": "fez8fjpoWzxK"
   },
   "outputs": [],
   "source": [
    "# Over Sampling\n",
    "from imblearn.over_sampling import RandomOverSampler\n",
    "rs = RandomOverSampler(random_state=1)\n",
    "X_train_rs, y_train_rs = rs.fit_resample(X_train,y_train)"
   ]
  },
  {
   "cell_type": "code",
   "execution_count": 26,
   "metadata": {
    "colab": {
     "base_uri": "https://localhost:8080/"
    },
    "executionInfo": {
     "elapsed": 46,
     "status": "ok",
     "timestamp": 1642412682996,
     "user": {
      "displayName": "MOHIT KUMBHARE",
      "photoUrl": "https://lh3.googleusercontent.com/a/default-user=s64",
      "userId": "03408441948341714955"
     },
     "user_tz": -330
    },
    "id": "djJCrQk1W9QW",
    "outputId": "55c6a0d8-ed11-4113-c92f-425e0379af8b"
   },
   "outputs": [
    {
     "data": {
      "text/plain": [
       "0    34851\n",
       "1    34851\n",
       "Name: Claim, dtype: int64"
      ]
     },
     "execution_count": 26,
     "metadata": {},
     "output_type": "execute_result"
    }
   ],
   "source": [
    "y_train_rs.value_counts()"
   ]
  },
  {
   "cell_type": "code",
   "execution_count": 27,
   "metadata": {
    "colab": {
     "base_uri": "https://localhost:8080/"
    },
    "executionInfo": {
     "elapsed": 39632,
     "status": "ok",
     "timestamp": 1642412722585,
     "user": {
      "displayName": "MOHIT KUMBHARE",
      "photoUrl": "https://lh3.googleusercontent.com/a/default-user=s64",
      "userId": "03408441948341714955"
     },
     "user_tz": -330
    },
    "id": "EJj4ZGJ8x3QI",
    "outputId": "43800479-33c9-491e-e472-f210343911ec"
   },
   "outputs": [
    {
     "name": "stdout",
     "output_type": "stream",
     "text": [
      "Epoch 1/30\n",
      "545/545 [==============================] - 6s 6ms/step - loss: 0.4950\n",
      "Epoch 2/30\n",
      "545/545 [==============================] - 3s 6ms/step - loss: 0.4639\n",
      "Epoch 3/30\n",
      "545/545 [==============================] - 3s 6ms/step - loss: 0.4459\n",
      "Epoch 4/30\n",
      "545/545 [==============================] - 3s 6ms/step - loss: 0.4261A: 0s - loss: 0\n",
      "Epoch 5/30\n",
      "545/545 [==============================] - 3s 6ms/step - loss: 0.4004\n",
      "Epoch 6/30\n",
      "545/545 [==============================] - 3s 6ms/step - loss: 0.3781\n",
      "Epoch 7/30\n",
      "545/545 [==============================] - 3s 6ms/step - loss: 0.3593\n",
      "Epoch 8/30\n",
      "545/545 [==============================] - 3s 6ms/step - loss: 0.3422\n",
      "Epoch 9/30\n",
      "545/545 [==============================] - 3s 6ms/step - loss: 0.3309\n",
      "Epoch 10/30\n",
      "545/545 [==============================] - 3s 6ms/step - loss: 0.3203\n",
      "Epoch 11/30\n",
      "545/545 [==============================] - 3s 6ms/step - loss: 0.3121\n",
      "Epoch 12/30\n",
      "545/545 [==============================] - 3s 6ms/step - loss: 0.3085\n",
      "Epoch 13/30\n",
      "545/545 [==============================] - 3s 6ms/step - loss: 0.2983\n",
      "Epoch 14/30\n",
      "545/545 [==============================] - 3s 6ms/step - loss: 0.2934\n",
      "Epoch 15/30\n",
      "545/545 [==============================] - 3s 6ms/step - loss: 0.2882\n",
      "Epoch 16/30\n",
      "545/545 [==============================] - 3s 6ms/step - loss: 0.2807\n",
      "Epoch 17/30\n",
      "545/545 [==============================] - 3s 6ms/step - loss: 0.2745\n",
      "Epoch 18/30\n",
      "545/545 [==============================] - 3s 6ms/step - loss: 0.2725\n",
      "Epoch 19/30\n",
      "545/545 [==============================] - 3s 6ms/step - loss: 0.2668\n",
      "Epoch 20/30\n",
      "545/545 [==============================] - 3s 6ms/step - loss: 0.2621\n",
      "Epoch 21/30\n",
      "545/545 [==============================] - 3s 6ms/step - loss: 0.2598\n",
      "Epoch 22/30\n",
      "545/545 [==============================] - 3s 6ms/step - loss: 0.2568\n",
      "Epoch 23/30\n",
      "545/545 [==============================] - 3s 6ms/step - loss: 0.2555\n",
      "Epoch 24/30\n",
      "545/545 [==============================] - 3s 6ms/step - loss: 0.2498\n",
      "Epoch 25/30\n",
      "545/545 [==============================] - 3s 6ms/step - loss: 0.2475\n",
      "Epoch 26/30\n",
      "545/545 [==============================] - 3s 6ms/step - loss: 0.2421\n",
      "Epoch 27/30\n",
      "545/545 [==============================] - 3s 6ms/step - loss: 0.2423\n",
      "Epoch 28/30\n",
      "545/545 [==============================] - 3s 6ms/step - loss: 0.2373\n",
      "Epoch 29/30\n",
      "545/545 [==============================] - 3s 6ms/step - loss: 0.2359\n",
      "Epoch 30/30\n",
      "545/545 [==============================] - 3s 6ms/step - loss: 0.2359A: 0s - loss:\n"
     ]
    },
    {
     "data": {
      "text/plain": [
       "<keras.callbacks.History at 0x27c60bb9c70>"
      ]
     },
     "execution_count": 27,
     "metadata": {},
     "output_type": "execute_result"
    }
   ],
   "source": [
    "model.fit(X_train_rs,y_train_rs, batch_size=128, epochs=30)"
   ]
  },
  {
   "cell_type": "code",
   "execution_count": 28,
   "metadata": {
    "executionInfo": {
     "elapsed": 893,
     "status": "ok",
     "timestamp": 1642412723465,
     "user": {
      "displayName": "MOHIT KUMBHARE",
      "photoUrl": "https://lh3.googleusercontent.com/a/default-user=s64",
      "userId": "03408441948341714955"
     },
     "user_tz": -330
    },
    "id": "GUFehhqNyA9o"
   },
   "outputs": [],
   "source": [
    "y_pred = model.predict(X_test)"
   ]
  },
  {
   "cell_type": "code",
   "execution_count": 29,
   "metadata": {
    "executionInfo": {
     "elapsed": 14,
     "status": "ok",
     "timestamp": 1642412723466,
     "user": {
      "displayName": "MOHIT KUMBHARE",
      "photoUrl": "https://lh3.googleusercontent.com/a/default-user=s64",
      "userId": "03408441948341714955"
     },
     "user_tz": -330
    },
    "id": "PgRePf_hyJMg"
   },
   "outputs": [],
   "source": [
    "y_pred = np.where(y_pred >= 0.5, 1, 0)"
   ]
  },
  {
   "cell_type": "code",
   "execution_count": 30,
   "metadata": {
    "colab": {
     "base_uri": "https://localhost:8080/"
    },
    "executionInfo": {
     "elapsed": 14,
     "status": "ok",
     "timestamp": 1642412723467,
     "user": {
      "displayName": "MOHIT KUMBHARE",
      "photoUrl": "https://lh3.googleusercontent.com/a/default-user=s64",
      "userId": "03408441948341714955"
     },
     "user_tz": -330
    },
    "id": "GP6UgDo_yMfm",
    "outputId": "e78bec0e-e09e-4ee3-d9c5-1086969de512"
   },
   "outputs": [
    {
     "name": "stdout",
     "output_type": "stream",
     "text": [
      "              precision    recall  f1-score   support\n",
      "\n",
      "           0       0.99      0.85      0.92     14961\n",
      "           1       0.04      0.45      0.07       205\n",
      "\n",
      "    accuracy                           0.85     15166\n",
      "   macro avg       0.52      0.65      0.49     15166\n",
      "weighted avg       0.98      0.85      0.90     15166\n",
      "\n"
     ]
    }
   ],
   "source": [
    "from sklearn.metrics import classification_report\n",
    "print(classification_report(y_test,y_pred))"
   ]
  },
  {
   "cell_type": "code",
   "execution_count": null,
   "metadata": {
    "executionInfo": {
     "elapsed": 13,
     "status": "ok",
     "timestamp": 1642412723468,
     "user": {
      "displayName": "MOHIT KUMBHARE",
      "photoUrl": "https://lh3.googleusercontent.com/a/default-user=s64",
      "userId": "03408441948341714955"
     },
     "user_tz": -330
    },
    "id": "O16Znfv3zBNd"
   },
   "outputs": [],
   "source": []
  }
 ],
 "metadata": {
  "colab": {
   "authorship_tag": "ABX9TyPahkvIsbPMKENYGAZ2eMBQ",
   "collapsed_sections": [],
   "mount_file_id": "1335xf-ouan1TW3Vw1cT5MxBBCW1ZWiLR",
   "name": "Project.ipynb",
   "provenance": []
  },
  "kernelspec": {
   "display_name": "Python 3 (ipykernel)",
   "language": "python",
   "name": "python3"
  },
  "language_info": {
   "codemirror_mode": {
    "name": "ipython",
    "version": 3
   },
   "file_extension": ".py",
   "mimetype": "text/x-python",
   "name": "python",
   "nbconvert_exporter": "python",
   "pygments_lexer": "ipython3",
   "version": "3.9.12"
  }
 },
 "nbformat": 4,
 "nbformat_minor": 1
}
